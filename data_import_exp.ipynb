{
 "metadata": {
  "language_info": {
   "codemirror_mode": {
    "name": "ipython",
    "version": 3
   },
   "file_extension": ".py",
   "mimetype": "text/x-python",
   "name": "python",
   "nbconvert_exporter": "python",
   "pygments_lexer": "ipython3",
   "version": "3.7.10"
  },
  "orig_nbformat": 2,
  "kernelspec": {
   "name": "python3710jvsc74a57bd0eac847dd2c9c128b69431237adc4325bd4d0fee84f2514c7aa2e626a686ebd29",
   "display_name": "Python 3.7.10 64-bit ('dsEnv': conda)"
  }
 },
 "nbformat": 4,
 "nbformat_minor": 2,
 "cells": [
  {
   "cell_type": "code",
   "execution_count": 65,
   "metadata": {},
   "outputs": [
    {
     "output_type": "stream",
     "name": "stdout",
     "text": [
      "length pgx: 1\ntrack: GPXTrack(name='Rutland Boat', segments=[GPXTrackSegment(points=[...])])\nlen segment: 4837\nrand point: [trkpt:52.641341742128134,-0.6413436681032181@86.4000015258789@2021-05-13 17:37:32+00:00]\n"
     ]
    }
   ],
   "source": [
    "import gpxpy\n",
    "with open('rutland_13_05_2021.gpx') as f:\n",
    "    gpx = gpxpy.parse(f)\n",
    "gpx\n",
    "print('length pgx:',len(gpx.tracks))\n",
    "track = gpx.tracks[0]\n",
    "print('track:', track)\n",
    "segment = track.segments[0]\n",
    "print('len segment:', len(segment.points))\n",
    "random_point = segment.points[42]\n",
    "print('rand point:', random_point)"
   ]
  },
  {
   "cell_type": "code",
   "execution_count": 66,
   "metadata": {},
   "outputs": [
    {
     "output_type": "stream",
     "name": "stdout",
     "text": [
      "52.641341742128134\n-0.6413436681032181\n2021-05-13 17:37:32+00:00\nNone\nNone\n86.4000015258789\nNone\n<bound method Location.distance_2d of GPXTrackPoint(52.641341742128134, -0.6413436681032181, elevation=86.4000015258789, time=datetime.datetime(2021, 5, 13, 17, 37, 32, tzinfo=SimpleTZ(\"Z\")))>\n"
     ]
    }
   ],
   "source": [
    "print(random_point.latitude)\n",
    "print(random_point.longitude)\n",
    "print(random_point.time)\n",
    "print(random_point.course)\n",
    "print(random_point.speed)\n",
    "print(random_point.elevation)\n",
    "print(random_point.satellites)\n",
    "print(random_point.distance_2d)\n",
    "\n"
   ]
  },
  {
   "cell_type": "code",
   "execution_count": 67,
   "metadata": {},
   "outputs": [
    {
     "output_type": "stream",
     "name": "stdout",
     "text": [
      "segment length:  16523.136349648146\nmoving data:  MovingData(moving_time=4665.0, stopped_time=238.0, moving_distance=16534.288055183846, stopped_distance=36.81545726883545, max_speed=5.921012420761443)\nspeed at point:  0.9658583441959601\n"
     ]
    }
   ],
   "source": [
    "print('segment length: ', segment.length_2d())\n",
    "print('moving data: ', segment.get_moving_data())\n",
    "print('speed at point: ', segment.get_speed(42))"
   ]
  },
  {
   "cell_type": "code",
   "execution_count": 78,
   "metadata": {},
   "outputs": [
    {
     "output_type": "execute_result",
     "data": {
      "text/plain": [
       "'100'"
      ]
     },
     "metadata": {},
     "execution_count": 78
    }
   ],
   "source": [
    "NAMESPACES = {'garmin_tpe': 'http://www.garmin.com/xmlschemas/TrackPointExtension/v1'}\n",
    "elem = random_point.extensions[0]\n",
    "elem.find('garmin_tpe:hr', NAMESPACES).text"
   ]
  },
  {
   "cell_type": "code",
   "execution_count": 90,
   "metadata": {},
   "outputs": [
    {
     "output_type": "stream",
     "name": "stdout",
     "text": [
      "{http://www.garmin.com/xmlschemas/TrackPointExtension/v1}atemp 20.0\n{http://www.garmin.com/xmlschemas/TrackPointExtension/v1}hr 100\n"
     ]
    }
   ],
   "source": [
    "tpe = random_point.extensions[0]\n",
    "for child in tpe:\n",
    "    print(child.tag, child.text)"
   ]
  },
  {
   "cell_type": "code",
   "execution_count": null,
   "metadata": {},
   "outputs": [],
   "source": []
  },
  {
   "cell_type": "code",
   "execution_count": 84,
   "metadata": {},
   "outputs": [],
   "source": [
    "with open('rutland_13_05_2021.gpx') as f:\n",
    "    gpx = gpxpy.parse(f)\n",
    "segment = gpx.tracks[0].segments[0]  # Assuming we know that there is only one track and one segment"
   ]
  },
  {
   "cell_type": "code",
   "execution_count": 63,
   "metadata": {},
   "outputs": [
    {
     "output_type": "execute_result",
     "data": {
      "text/plain": [
       "GPXTrackSegment(points=[...])"
      ]
     },
     "metadata": {},
     "execution_count": 63
    }
   ],
   "source": [
    "segment"
   ]
  },
  {
   "cell_type": "code",
   "execution_count": null,
   "metadata": {},
   "outputs": [],
   "source": [
    "data = {\n",
    "            'latitude': point.latitude,\n",
    "            'longitude': point.longitude,\n",
    "            'elevation': point.elevation,\n",
    "            'time': point.time\n",
    "        }"
   ]
  }
 ]
}